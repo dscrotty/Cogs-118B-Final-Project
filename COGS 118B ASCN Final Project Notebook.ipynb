{
 "cells": [
  {
   "cell_type": "code",
   "execution_count": 1,
   "metadata": {},
   "outputs": [],
   "source": [
    "import pandas as pd\n",
    "import numpy as np\n",
    "import matplotlib\n",
    "import matplotlib.pyplot as plt\n",
    "%matplotlib inline"
   ]
  },
  {
   "cell_type": "code",
   "execution_count": 2,
   "metadata": {},
   "outputs": [],
   "source": [
    "df_games = pd.read_csv(\"appstore_games.csv\")"
   ]
  },
  {
   "cell_type": "markdown",
   "metadata": {},
   "source": [
    "## Data Cleaning"
   ]
  },
  {
   "cell_type": "code",
   "execution_count": 3,
   "metadata": {},
   "outputs": [],
   "source": [
    "# Dropping unneeded columns\n",
    "df_games.drop(labels=[\"URL\",\"ID\",\"Subtitle\",\"Description\",\"Languages\",\"Primary Genre\",\n",
    "                      \"Original Release Date\",\"Current Version Release Date\"], axis=1, inplace=True)"
   ]
  },
  {
   "cell_type": "code",
   "execution_count": 4,
   "metadata": {},
   "outputs": [],
   "source": [
    "# Replacing null values in \"User Rating Count\" with a value of 0\n",
    "df_games[\"User Rating Count\"].fillna(value=0, inplace=True)"
   ]
  },
  {
   "cell_type": "code",
   "execution_count": 5,
   "metadata": {},
   "outputs": [
    {
     "name": "stderr",
     "output_type": "stream",
     "text": [
      "/anaconda3/lib/python3.7/site-packages/pandas/core/indexing.py:205: SettingWithCopyWarning: \n",
      "A value is trying to be set on a copy of a slice from a DataFrame\n",
      "\n",
      "See the caveats in the documentation: http://pandas.pydata.org/pandas-docs/stable/user_guide/indexing.html#returning-a-view-versus-a-copy\n",
      "  self._setitem_with_indexer(indexer, value)\n"
     ]
    }
   ],
   "source": [
    "# Change in-app purchase column to be 0 (does not have in app purchases) or 1 (does have in app purchases)\n",
    "df_games[\"In-app Purchases\"].fillna(value=0, inplace=True)\n",
    "df_games[\"In-app Purchases\"].loc[df_games[\"In-app Purchases\"] != 0] = 1"
   ]
  },
  {
   "cell_type": "code",
   "execution_count": 6,
   "metadata": {},
   "outputs": [],
   "source": [
    "# Getting rid of + signs in \"Age Rating\" column\n",
    "df_games.loc[df_games[\"Age Rating\"] == \"4+\",[\"Age Rating\"]] = \"4\"\n",
    "df_games.loc[df_games[\"Age Rating\"] == \"9+\",[\"Age Rating\"]] = \"9\"\n",
    "df_games.loc[df_games[\"Age Rating\"] == \"12+\",[\"Age Rating\"]] = \"12\"\n",
    "df_games.loc[df_games[\"Age Rating\"] == \"17+\",[\"Age Rating\"]] = \"17\""
   ]
  },
  {
   "cell_type": "code",
   "execution_count": 7,
   "metadata": {},
   "outputs": [],
   "source": [
    "# Final cleaned dataframe\n",
    "df_games = df_games.dropna()"
   ]
  },
  {
   "cell_type": "code",
   "execution_count": 8,
   "metadata": {},
   "outputs": [
    {
     "data": {
      "text/html": [
       "<div>\n",
       "<style scoped>\n",
       "    .dataframe tbody tr th:only-of-type {\n",
       "        vertical-align: middle;\n",
       "    }\n",
       "\n",
       "    .dataframe tbody tr th {\n",
       "        vertical-align: top;\n",
       "    }\n",
       "\n",
       "    .dataframe thead th {\n",
       "        text-align: right;\n",
       "    }\n",
       "</style>\n",
       "<table border=\"1\" class=\"dataframe\">\n",
       "  <thead>\n",
       "    <tr style=\"text-align: right;\">\n",
       "      <th></th>\n",
       "      <th>Name</th>\n",
       "      <th>Icon URL</th>\n",
       "      <th>Average User Rating</th>\n",
       "      <th>User Rating Count</th>\n",
       "      <th>Price</th>\n",
       "      <th>In-app Purchases</th>\n",
       "      <th>Developer</th>\n",
       "      <th>Age Rating</th>\n",
       "      <th>Size</th>\n",
       "      <th>Genres</th>\n",
       "    </tr>\n",
       "  </thead>\n",
       "  <tbody>\n",
       "    <tr>\n",
       "      <td>0</td>\n",
       "      <td>Sudoku</td>\n",
       "      <td>https://is2-ssl.mzstatic.com/image/thumb/Purpl...</td>\n",
       "      <td>4.0</td>\n",
       "      <td>3553.0</td>\n",
       "      <td>2.99</td>\n",
       "      <td>0</td>\n",
       "      <td>Mighty Mighty Good Games</td>\n",
       "      <td>4</td>\n",
       "      <td>15853568.0</td>\n",
       "      <td>Games, Strategy, Puzzle</td>\n",
       "    </tr>\n",
       "    <tr>\n",
       "      <td>1</td>\n",
       "      <td>Reversi</td>\n",
       "      <td>https://is4-ssl.mzstatic.com/image/thumb/Purpl...</td>\n",
       "      <td>3.5</td>\n",
       "      <td>284.0</td>\n",
       "      <td>1.99</td>\n",
       "      <td>0</td>\n",
       "      <td>Kiss The Machine</td>\n",
       "      <td>4</td>\n",
       "      <td>12328960.0</td>\n",
       "      <td>Games, Strategy, Board</td>\n",
       "    </tr>\n",
       "    <tr>\n",
       "      <td>2</td>\n",
       "      <td>Morocco</td>\n",
       "      <td>https://is5-ssl.mzstatic.com/image/thumb/Purpl...</td>\n",
       "      <td>3.0</td>\n",
       "      <td>8376.0</td>\n",
       "      <td>0.00</td>\n",
       "      <td>0</td>\n",
       "      <td>Bayou Games</td>\n",
       "      <td>4</td>\n",
       "      <td>674816.0</td>\n",
       "      <td>Games, Board, Strategy</td>\n",
       "    </tr>\n",
       "    <tr>\n",
       "      <td>3</td>\n",
       "      <td>Sudoku (Free)</td>\n",
       "      <td>https://is3-ssl.mzstatic.com/image/thumb/Purpl...</td>\n",
       "      <td>3.5</td>\n",
       "      <td>190394.0</td>\n",
       "      <td>0.00</td>\n",
       "      <td>0</td>\n",
       "      <td>Mighty Mighty Good Games</td>\n",
       "      <td>4</td>\n",
       "      <td>21552128.0</td>\n",
       "      <td>Games, Strategy, Puzzle</td>\n",
       "    </tr>\n",
       "    <tr>\n",
       "      <td>4</td>\n",
       "      <td>Senet Deluxe</td>\n",
       "      <td>https://is1-ssl.mzstatic.com/image/thumb/Purpl...</td>\n",
       "      <td>3.5</td>\n",
       "      <td>28.0</td>\n",
       "      <td>2.99</td>\n",
       "      <td>0</td>\n",
       "      <td>RoGame Software</td>\n",
       "      <td>4</td>\n",
       "      <td>34689024.0</td>\n",
       "      <td>Games, Strategy, Board, Education</td>\n",
       "    </tr>\n",
       "    <tr>\n",
       "      <td>...</td>\n",
       "      <td>...</td>\n",
       "      <td>...</td>\n",
       "      <td>...</td>\n",
       "      <td>...</td>\n",
       "      <td>...</td>\n",
       "      <td>...</td>\n",
       "      <td>...</td>\n",
       "      <td>...</td>\n",
       "      <td>...</td>\n",
       "      <td>...</td>\n",
       "    </tr>\n",
       "    <tr>\n",
       "      <td>16950</td>\n",
       "      <td>Die Last</td>\n",
       "      <td>https://is1-ssl.mzstatic.com/image/thumb/Purpl...</td>\n",
       "      <td>3.0</td>\n",
       "      <td>6.0</td>\n",
       "      <td>0.00</td>\n",
       "      <td>0</td>\n",
       "      <td>Jie Yang</td>\n",
       "      <td>12</td>\n",
       "      <td>151308288.0</td>\n",
       "      <td>Games, Strategy, Entertainment, Puzzle</td>\n",
       "    </tr>\n",
       "    <tr>\n",
       "      <td>16956</td>\n",
       "      <td>Basic Slosh</td>\n",
       "      <td>https://is5-ssl.mzstatic.com/image/thumb/Purpl...</td>\n",
       "      <td>5.0</td>\n",
       "      <td>30.0</td>\n",
       "      <td>0.00</td>\n",
       "      <td>0</td>\n",
       "      <td>Ashnell Marchand</td>\n",
       "      <td>4</td>\n",
       "      <td>79646720.0</td>\n",
       "      <td>Games, Entertainment, Action, Strategy</td>\n",
       "    </tr>\n",
       "    <tr>\n",
       "      <td>16962</td>\n",
       "      <td>Idle Racing Tycoon</td>\n",
       "      <td>https://is2-ssl.mzstatic.com/image/thumb/Purpl...</td>\n",
       "      <td>5.0</td>\n",
       "      <td>51.0</td>\n",
       "      <td>0.00</td>\n",
       "      <td>0</td>\n",
       "      <td>Carson Brody</td>\n",
       "      <td>9</td>\n",
       "      <td>125348864.0</td>\n",
       "      <td>Games, Simulation, Strategy</td>\n",
       "    </tr>\n",
       "    <tr>\n",
       "      <td>16967</td>\n",
       "      <td>Glow Hockey Strike</td>\n",
       "      <td>https://is2-ssl.mzstatic.com/image/thumb/Purpl...</td>\n",
       "      <td>5.0</td>\n",
       "      <td>5.0</td>\n",
       "      <td>0.00</td>\n",
       "      <td>0</td>\n",
       "      <td>Samir Jabeur</td>\n",
       "      <td>4</td>\n",
       "      <td>128687104.0</td>\n",
       "      <td>Games, Simulation, Strategy</td>\n",
       "    </tr>\n",
       "    <tr>\n",
       "      <td>16993</td>\n",
       "      <td>Agadmator Chess Clock</td>\n",
       "      <td>https://is1-ssl.mzstatic.com/image/thumb/Purpl...</td>\n",
       "      <td>5.0</td>\n",
       "      <td>33.0</td>\n",
       "      <td>0.00</td>\n",
       "      <td>0</td>\n",
       "      <td>Ivan Amidzic</td>\n",
       "      <td>4</td>\n",
       "      <td>8845312.0</td>\n",
       "      <td>Games, Strategy, Board, Utilities</td>\n",
       "    </tr>\n",
       "  </tbody>\n",
       "</table>\n",
       "<p>7561 rows × 10 columns</p>\n",
       "</div>"
      ],
      "text/plain": [
       "                        Name  \\\n",
       "0                     Sudoku   \n",
       "1                    Reversi   \n",
       "2                    Morocco   \n",
       "3              Sudoku (Free)   \n",
       "4               Senet Deluxe   \n",
       "...                      ...   \n",
       "16950               Die Last   \n",
       "16956            Basic Slosh   \n",
       "16962     Idle Racing Tycoon   \n",
       "16967     Glow Hockey Strike   \n",
       "16993  Agadmator Chess Clock   \n",
       "\n",
       "                                                Icon URL  Average User Rating  \\\n",
       "0      https://is2-ssl.mzstatic.com/image/thumb/Purpl...                  4.0   \n",
       "1      https://is4-ssl.mzstatic.com/image/thumb/Purpl...                  3.5   \n",
       "2      https://is5-ssl.mzstatic.com/image/thumb/Purpl...                  3.0   \n",
       "3      https://is3-ssl.mzstatic.com/image/thumb/Purpl...                  3.5   \n",
       "4      https://is1-ssl.mzstatic.com/image/thumb/Purpl...                  3.5   \n",
       "...                                                  ...                  ...   \n",
       "16950  https://is1-ssl.mzstatic.com/image/thumb/Purpl...                  3.0   \n",
       "16956  https://is5-ssl.mzstatic.com/image/thumb/Purpl...                  5.0   \n",
       "16962  https://is2-ssl.mzstatic.com/image/thumb/Purpl...                  5.0   \n",
       "16967  https://is2-ssl.mzstatic.com/image/thumb/Purpl...                  5.0   \n",
       "16993  https://is1-ssl.mzstatic.com/image/thumb/Purpl...                  5.0   \n",
       "\n",
       "       User Rating Count  Price  In-app Purchases                 Developer  \\\n",
       "0                 3553.0   2.99                 0  Mighty Mighty Good Games   \n",
       "1                  284.0   1.99                 0          Kiss The Machine   \n",
       "2                 8376.0   0.00                 0               Bayou Games   \n",
       "3               190394.0   0.00                 0  Mighty Mighty Good Games   \n",
       "4                   28.0   2.99                 0           RoGame Software   \n",
       "...                  ...    ...               ...                       ...   \n",
       "16950                6.0   0.00                 0                  Jie Yang   \n",
       "16956               30.0   0.00                 0          Ashnell Marchand   \n",
       "16962               51.0   0.00                 0              Carson Brody   \n",
       "16967                5.0   0.00                 0              Samir Jabeur   \n",
       "16993               33.0   0.00                 0              Ivan Amidzic   \n",
       "\n",
       "      Age Rating         Size                                  Genres  \n",
       "0              4   15853568.0                 Games, Strategy, Puzzle  \n",
       "1              4   12328960.0                  Games, Strategy, Board  \n",
       "2              4     674816.0                  Games, Board, Strategy  \n",
       "3              4   21552128.0                 Games, Strategy, Puzzle  \n",
       "4              4   34689024.0       Games, Strategy, Board, Education  \n",
       "...          ...          ...                                     ...  \n",
       "16950         12  151308288.0  Games, Strategy, Entertainment, Puzzle  \n",
       "16956          4   79646720.0  Games, Entertainment, Action, Strategy  \n",
       "16962          9  125348864.0             Games, Simulation, Strategy  \n",
       "16967          4  128687104.0             Games, Simulation, Strategy  \n",
       "16993          4    8845312.0       Games, Strategy, Board, Utilities  \n",
       "\n",
       "[7561 rows x 10 columns]"
      ]
     },
     "execution_count": 8,
     "metadata": {},
     "output_type": "execute_result"
    }
   ],
   "source": [
    "df_games"
   ]
  },
  {
   "cell_type": "markdown",
   "metadata": {},
   "source": [
    "# K-Means"
   ]
  },
  {
   "cell_type": "code",
   "execution_count": 9,
   "metadata": {},
   "outputs": [],
   "source": [
    "def plotCurrent(X, Rnk, Kmus):\n",
    "    N, D = np.shape(X)\n",
    "    K = np.shape(Kmus)[0]\n",
    "\n",
    "    InitColorMat = np.matrix([[1, 0, 0], \n",
    "                              [0, 1, 0],   \n",
    "                              [0, 0, 1],\n",
    "                              [0, 0, 0],\n",
    "                              [1, 1, 0], \n",
    "                              [1, 0, 1], \n",
    "                              [0, 1, 1]])\n",
    "\n",
    "    KColorMat = InitColorMat[0:K]\n",
    "    colorVec = Rnk.dot(KColorMat)\n",
    "    muColorVec = np.eye(K).dot(KColorMat)\n",
    "\n",
    "    plt.scatter(X[:,0], X[:,1], edgecolors=colorVec, marker='o', facecolors='none', alpha=0.3)\n",
    "    plt.scatter(Kmus[:,0], Kmus[:,1], c=muColorVec, marker='D', s=50);"
   ]
  },
  {
   "cell_type": "code",
   "execution_count": 10,
   "metadata": {},
   "outputs": [],
   "source": [
    "def calcSqDistances(X, Kmus):\n",
    "    return ((-2 * X.dot(Kmus.T) + np.sum(np.multiply(Kmus,Kmus), axis=1).T).T + np.sum(np.multiply(X,X), axis=1)).T"
   ]
  },
  {
   "cell_type": "code",
   "execution_count": 11,
   "metadata": {},
   "outputs": [],
   "source": [
    "def determineRnk(sqDmat):\n",
    "    m = np.argmin(sqDmat, axis=1)\n",
    "    return np.eye(sqDmat.shape[1])[m]"
   ]
  },
  {
   "cell_type": "code",
   "execution_count": 12,
   "metadata": {},
   "outputs": [],
   "source": [
    "def recalcMus(X, Rnk):\n",
    "    return (np.divide(X.T.dot(Rnk), np.sum(Rnk, axis=0))).T"
   ]
  },
  {
   "cell_type": "code",
   "execution_count": 13,
   "metadata": {},
   "outputs": [],
   "source": [
    "def runKMeans(K, data, subset):\n",
    "    X = data[subset]\n",
    "    \n",
    "    N = len(X)\n",
    "    D = 2\n",
    "    \n",
    "    X = X.to_numpy()\n",
    "    X = X.astype(int)\n",
    "\n",
    "    # Allocate space for the K mu vectors\n",
    "    Kmus = np.zeros((K, D))\n",
    "\n",
    "    # Initialize cluster centers by randomly picking points from the data\n",
    "    rndinds = np.random.permutation(N)\n",
    "    Kmus = X[rndinds[:K]];\n",
    "\n",
    "    # Specify the maximum number of iterations to allow\n",
    "    maxiters = 1000;\n",
    "\n",
    "    for iter in range(maxiters):\n",
    "        # Assign each data vector to closest mu vector as per Bishop (9.2)\n",
    "        # Do this by first calculating a squared distance matrix where the n,k entry\n",
    "        # contains the squared distance from the nth data vector to the kth mu vector\n",
    "\n",
    "        # sqDmat will be an N-by-K matrix with the n,k entry as specfied above\n",
    "        sqDmat = calcSqDistances(X, Kmus);\n",
    "\n",
    "        # given the matrix of squared distances, determine the closest cluster\n",
    "        # center for each data vector \n",
    "\n",
    "        # R is the \"responsibility\" matrix\n",
    "        # R will be an N-by-K matrix of binary values whose n,k entry is set \n",
    "        # Specifically, the n,k entry is 1 if point n is closest to cluster k,\n",
    "        # and is 0 otherwise\n",
    "        Rnk = determineRnk(sqDmat)\n",
    "\n",
    "        KmusOld = Kmus\n",
    "        plotCurrent(X, Rnk, Kmus)\n",
    "        plt.show()\n",
    "\n",
    "        # Recalculate mu values based on cluster assignments\n",
    "        Kmus = recalcMus(X, Rnk)\n",
    "\n",
    "        # Check to see if the cluster centers have converged.  If so, break.\n",
    "        if sum(abs(KmusOld.flatten() - Kmus.flatten())) < 1e-6:\n",
    "            break\n",
    "\n",
    "    plotCurrent(X,Rnk,Kmus)"
   ]
  },
  {
   "cell_type": "code",
   "execution_count": 15,
   "metadata": {},
   "outputs": [
    {
     "data": {
      "image/png": "[encoded data removed]",
      "text/plain": [
       "<Figure size 432x288 with 1 Axes>"
      ]
     },
     "metadata": {
      "needs_background": "light"
     },
     "output_type": "display_data"
    },
    {
     "data": {
      "image/png": "[encoded data removed]",
      "text/plain": [
       "<Figure size 432x288 with 1 Axes>"
      ]
     },
     "metadata": {
      "needs_background": "light"
     },
     "output_type": "display_data"
    },
    {
     "data": {
      "image/png": "[encoded data removed]",
      "text/plain": [
       "<Figure size 432x288 with 1 Axes>"
      ]
     },
     "metadata": {
      "needs_background": "light"
     },
     "output_type": "display_data"
    }
   ],
   "source": [
    "runKMeans(2, df_games, [\"Price\", \"Average User Rating\"]) "
   ]
  },
  {
   "cell_type": "code",
   "execution_count": null,
   "metadata": {},
   "outputs": [],
   "source": [
    "runKMeans(2, df_games, [\"Price\", \"Average User Rating\"]) "
   ]
  }
 ],
 "metadata": {
  "kernelspec": {
   "display_name": "Python 3",
   "language": "python",
   "name": "python3"
  },
  "language_info": {
   "codemirror_mode": {
    "name": "ipython",
    "version": 3
   },
   "file_extension": ".py",
   "mimetype": "text/x-python",
   "name": "python",
   "nbconvert_exporter": "python",
   "pygments_lexer": "ipython3",
   "version": "3.7.1"
  }
 },
 "nbformat": 4,
 "nbformat_minor": 2
}
